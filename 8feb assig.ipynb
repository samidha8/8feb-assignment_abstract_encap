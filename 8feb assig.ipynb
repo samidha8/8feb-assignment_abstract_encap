{
 "cells": [
  {
   "cell_type": "code",
   "execution_count": 12,
   "id": "e409dd3c-9db2-4104-898d-10e78b54f674",
   "metadata": {},
   "outputs": [],
   "source": [
    "#Q1. What is Abstraction in OOps? Explain with an example."
   ]
  },
  {
   "cell_type": "code",
   "execution_count": null,
   "id": "4d6551e9-8c17-4644-a078-252fb5ed1a30",
   "metadata": {},
   "outputs": [],
   "source": [
    "#A process of hiding the real implementation of the method by only showing a method signature."
   ]
  },
  {
   "cell_type": "code",
   "execution_count": 2,
   "id": "cde5b628-77dc-455f-a5a9-b5375a484e6e",
   "metadata": {},
   "outputs": [],
   "source": [
    "#created a new class as BankApp\n",
    "from abc import ABC, abstractmethod\n",
    "class BankApp:\n",
    "    def database(self):\n",
    "        print(\"connected to database\")\n",
    "        \n",
    "    @abstractmethod\n",
    "    def security(self):\n",
    "        pass"
   ]
  },
  {
   "cell_type": "code",
   "execution_count": 3,
   "id": "12762d10-167b-4475-a883-e6e63f17efa4",
   "metadata": {},
   "outputs": [],
   "source": [
    "# inheritance of BankApp\n",
    "class MobileApp(BankApp):\n",
    "    \n",
    "    def mobile_login(self):\n",
    "        print(\"login into mobile\")\n",
    "    def security(self):\n",
    "        print(\"mobile security unlocked\")"
   ]
  },
  {
   "cell_type": "code",
   "execution_count": 4,
   "id": "87616748-6c8e-47a6-b192-61eeb4cc2176",
   "metadata": {},
   "outputs": [],
   "source": [
    "obj_iphone=MobileApp()"
   ]
  },
  {
   "cell_type": "code",
   "execution_count": 6,
   "id": "28d7362a-5b0f-4210-af8d-282861cc2553",
   "metadata": {},
   "outputs": [
    {
     "name": "stdout",
     "output_type": "stream",
     "text": [
      "connected to database\n"
     ]
    }
   ],
   "source": [
    "obj_iphone.database()"
   ]
  },
  {
   "cell_type": "code",
   "execution_count": 7,
   "id": "8da6e462-bb1f-447e-82aa-e41137246f2c",
   "metadata": {},
   "outputs": [
    {
     "name": "stdout",
     "output_type": "stream",
     "text": [
      "login into mobile\n"
     ]
    }
   ],
   "source": [
    "obj_iphone.mobile_login()"
   ]
  },
  {
   "cell_type": "code",
   "execution_count": 8,
   "id": "d6fdd59b-85e9-4dae-91d2-b833e7a8a75e",
   "metadata": {},
   "outputs": [
    {
     "name": "stdout",
     "output_type": "stream",
     "text": [
      "mobile security unlocked\n"
     ]
    }
   ],
   "source": [
    "obj_iphone.security()"
   ]
  },
  {
   "cell_type": "code",
   "execution_count": 11,
   "id": "c743bdfd-3486-4b31-9fdc-8e8c7cea361f",
   "metadata": {},
   "outputs": [
    {
     "data": {
      "text/plain": [
       "\"for abstrac method we have to write 'from abc import ABC, abstractmethod'. then we created a BankApp class and imported (ABC)in it. and wrote our class and then we introduce @abstractmethod to abstract/ hide unnecessary code and pass it.\\nthen created another class a MobileAPP(BankApp) and inherit BankApp in it and pass the data and abstract BankApp in mobileclass. then created an object join with MobileApp()then this obj can accesse to database, mobile_login ,security \""
      ]
     },
     "execution_count": 11,
     "metadata": {},
     "output_type": "execute_result"
    }
   ],
   "source": [
    "\"\"\"for abstrac method we have to write 'from abc import ABC, abstractmethod'. then we created a BankApp class and imported (ABC)in it. and wrote our class and then we introduce @abstractmethod to abstract/ hide unnecessary code and pass it.\n",
    "then created another class a MobileAPP(BankApp) and inherit BankApp in it and pass the data and abstract BankApp in mobileclass. then created an object join with MobileApp()then this obj can accesse to database, mobile_login ,security \"\"\"\n"
   ]
  },
  {
   "cell_type": "code",
   "execution_count": null,
   "id": "ea8ffd18-414c-491b-a4b5-61dbb1341e09",
   "metadata": {},
   "outputs": [],
   "source": [
    "#Q2 Differentiate between Abstraction and Encapsulation. Explain with an example."
   ]
  },
  {
   "cell_type": "code",
   "execution_count": null,
   "id": "9191f44a-b33b-4573-a323-3a17be4216ac",
   "metadata": {},
   "outputs": [],
   "source": [
    "#Abstraction is the process or method of gaining the information.\n",
    "#In abstraction, problems are solved at the design or interface level.\n",
    "#Abstraction is the method of hiding the unwanted information.\n",
    "#We can implement abstraction using abstract class and interfaces.\n",
    "#n abstraction, implementation complexities are hidden using abstract classes and interfaces.\n",
    "#The objects that help to perform abstraction are encapsulated.\n",
    "#Abstraction provides access to specific part of data.\n",
    "#Abstraction focus is on “what” should be done."
   ]
  },
  {
   "cell_type": "code",
   "execution_count": null,
   "id": "a0d29788-8179-4d49-96fe-aaeb326daf87",
   "metadata": {},
   "outputs": [],
   "source": [
    "# While encapsulation is the process or method to contain the information\n",
    "#While in encapsulation, problems are solved at the implementation level.\n",
    "#Whereas encapsulation is a method to hide the data in a single entity or unit along with a method to protect information from outside.\n",
    "#Whereas encapsulation can be implemented using by access modifier i.e. private, protected and public.\n",
    "#While in encapsulation, the data is hidden using methods of getters and setters.\n",
    "#Whereas the objects that result in encapsulation need not be abstracted.\n",
    "#Encapsulation hides data and the user can not access same directly (data hiding.\n",
    "#Encapsulation focus is on “How” it should be done."
   ]
  },
  {
   "cell_type": "code",
   "execution_count": 13,
   "id": "4b30a64d-28b3-4837-b0fe-2e4859362ce5",
   "metadata": {},
   "outputs": [],
   "source": [
    "#example of abstraction\n",
    "from abc import ABC,abstractmethod\n",
    "class absdemo(ABC):\n",
    "    @abstractmethod\n",
    "    def display(self):\n",
    "        none\n",
    "    def show(self):\n",
    "        none\n",
    "class demolec(absdemo):\n",
    "    def display(self):\n",
    "        print(\"you can see video\")\n",
    "    def show(self):\n",
    "        print(\"showing video\")    \n",
    "    "
   ]
  },
  {
   "cell_type": "code",
   "execution_count": 14,
   "id": "8d312414-aec9-49ea-8fe6-28f3f2540401",
   "metadata": {},
   "outputs": [],
   "source": [
    "java_lec= demolec()"
   ]
  },
  {
   "cell_type": "code",
   "execution_count": 15,
   "id": "5e2fee21-3471-4371-9dd4-60223d1e9b82",
   "metadata": {},
   "outputs": [
    {
     "name": "stdout",
     "output_type": "stream",
     "text": [
      "you can see video\n"
     ]
    }
   ],
   "source": [
    "java_lec.display()"
   ]
  },
  {
   "cell_type": "code",
   "execution_count": 16,
   "id": "27699bbc-064a-433b-a3e2-f4315caf75ea",
   "metadata": {},
   "outputs": [
    {
     "name": "stdout",
     "output_type": "stream",
     "text": [
      "showing video\n"
     ]
    }
   ],
   "source": [
    "java_lec.show()"
   ]
  },
  {
   "cell_type": "code",
   "execution_count": 17,
   "id": "d94239c9-9653-463a-b571-899a9f055c61",
   "metadata": {},
   "outputs": [],
   "source": [
    "data_science = demolec()"
   ]
  },
  {
   "cell_type": "code",
   "execution_count": 18,
   "id": "14070140-6a93-4167-b456-1082b38b6f3e",
   "metadata": {},
   "outputs": [
    {
     "name": "stdout",
     "output_type": "stream",
     "text": [
      "showing video\n"
     ]
    }
   ],
   "source": [
    "data_science.show()"
   ]
  },
  {
   "cell_type": "code",
   "execution_count": 27,
   "id": "d899bb5d-f2f4-474a-832b-c54814a9553b",
   "metadata": {},
   "outputs": [
    {
     "data": {
      "text/plain": [
       "\"explanation- we wrote 'from abc import ABC,abstractmethod' as format of abstraction method then we created class as 'absdemo' and complex code is hidden by @abstractmethod then we wrote complex code which we wanted to hide. then made another class as 'demolec'created method in it as we created in 'absdemo class and pass the data. then created externam object as 'java_lec' which is = to 'demolec' class.java_lec.display() to see result\""
      ]
     },
     "execution_count": 27,
     "metadata": {},
     "output_type": "execute_result"
    }
   ],
   "source": [
    "\"\"\"explanation- we wrote 'from abc import ABC,abstractmethod' as format of abstraction method then we created class as 'absdemo' and complex code is hidden by @abstractmethod then we wrote complex code which we wanted to hide. then made another class as 'demolec'created method in it as we created in 'absdemo class and pass the data. then created externam object as 'java_lec' which is = to 'demolec' class.java_lec.display() to see result\"\"\""
   ]
  },
  {
   "cell_type": "code",
   "execution_count": 19,
   "id": "7ca89f96-4320-473b-99ed-8d4faeee7fb5",
   "metadata": {},
   "outputs": [],
   "source": [
    "#example of encapsulation\n",
    "class pharmacy:\n",
    "    def __init__(self,subject,years,labname):\n",
    "        self.__subject = subject\n",
    "        self.__years= years\n",
    "        self.__labname= labname"
   ]
  },
  {
   "cell_type": "code",
   "execution_count": 20,
   "id": "aff38669-2e13-48fb-84c1-c2394599a741",
   "metadata": {},
   "outputs": [],
   "source": [
    "course = pharmacy(\"cology\",4,\"chemistry lab\")"
   ]
  },
  {
   "cell_type": "code",
   "execution_count": 21,
   "id": "1acde0df-0679-4184-9ba8-7c58c1d3b2f8",
   "metadata": {},
   "outputs": [
    {
     "data": {
      "text/plain": [
       "'cology'"
      ]
     },
     "execution_count": 21,
     "metadata": {},
     "output_type": "execute_result"
    }
   ],
   "source": [
    "course._pharmacy__subject"
   ]
  },
  {
   "cell_type": "code",
   "execution_count": 22,
   "id": "8855f3ca-9513-4058-b7e5-7aec77f772cb",
   "metadata": {},
   "outputs": [
    {
     "data": {
      "text/plain": [
       "'chemistry lab'"
      ]
     },
     "execution_count": 22,
     "metadata": {},
     "output_type": "execute_result"
    }
   ],
   "source": [
    "course._pharmacy__labname"
   ]
  },
  {
   "cell_type": "code",
   "execution_count": 31,
   "id": "a4e25aa7-3c97-44d7-aa34-767af61b9842",
   "metadata": {},
   "outputs": [
    {
     "data": {
      "text/plain": [
       "'explanation- created pharmacy as class. then created method with \\'__init__\\'function and add attributes, staring as self function to bind data to the class. pass data with \\'self.__\\' with attributes we have added for eg. self.__subject = subject and so on.externally pass a new object as course which is = to our class \"pharmacy\" and with class added values for  attributes. then called course._pharmacy__subject to see output'"
      ]
     },
     "execution_count": 31,
     "metadata": {},
     "output_type": "execute_result"
    }
   ],
   "source": [
    "\"\"\"explanation- created pharmacy as class. then created method with '__init__'function and add attributes, staring as self function to bind data to the class. pass data with 'self.__' with attributes we have added for eg. self.__subject = subject and so on.externally pass a new object as course which is = to our class \"pharmacy\" and with class added values for  attributes. then called course._pharmacy__subject to see output\"\"\" "
   ]
  },
  {
   "cell_type": "code",
   "execution_count": null,
   "id": "e28c254b-4445-49e5-92ec-d9cc75361b98",
   "metadata": {},
   "outputs": [],
   "source": [
    "# Q3. What is abc module in python? Why is it used?"
   ]
  },
  {
   "cell_type": "code",
   "execution_count": 13,
   "id": "7bc3b76a-2161-4b39-aa12-07e9a15fe01d",
   "metadata": {},
   "outputs": [
    {
     "data": {
      "text/plain": [
       "\"The 'abc' module in Python library provides the infrastructure for defining custom abstract base classes. 'abc' works by marking methods of the base class as abstract. This is done by @absttractmethod decorator\""
      ]
     },
     "execution_count": 13,
     "metadata": {},
     "output_type": "execute_result"
    }
   ],
   "source": [
    "\"\"\"The 'abc' module in Python library provides the infrastructure for defining custom abstract base classes. 'abc' works by marking methods of the base class as abstract. This is done by @absttractmethod decorator\"\"\""
   ]
  },
  {
   "cell_type": "code",
   "execution_count": 14,
   "id": "e5e0fcbd-26d6-40e8-8c38-58ff5d6c8b3f",
   "metadata": {},
   "outputs": [
    {
     "data": {
      "text/plain": [
       "'A developer can use hasattr or isinstance methods to check whether the input conforms to a particular identity. But sometimes it is inconvenient to use those methods to check a myriad of different properties and methods. As a solution to this inconvenience, Python introduced a concept called abstract base class (abc).'"
      ]
     },
     "execution_count": 14,
     "metadata": {},
     "output_type": "execute_result"
    }
   ],
   "source": [
    "\"\"\"A developer can use hasattr or isinstance methods to check whether the input conforms to a particular identity. But sometimes it is inconvenient to use those methods to check a myriad of different properties and methods. As a solution to this inconvenience, Python introduced a concept called abstract base class (abc).\"\"\""
   ]
  },
  {
   "cell_type": "code",
   "execution_count": 33,
   "id": "a16e1ca7-6dff-4f30-8b83-c888f3820ca8",
   "metadata": {},
   "outputs": [],
   "source": [
    "#Q4. How can we achieve data abstraction?"
   ]
  },
  {
   "cell_type": "code",
   "execution_count": 36,
   "id": "cc4b64bf-6697-4839-874f-11417803cd8e",
   "metadata": {},
   "outputs": [
    {
     "data": {
      "text/plain": [
       "'Data abstraction is a method where essential elements are displayed to the user and trivial elements are kept hidden. abstraction is achieved by using the @abstractmethod keyword for classes and interfaces. In abstract classes, we can have abstract methods as well as concrete methods.'"
      ]
     },
     "execution_count": 36,
     "metadata": {},
     "output_type": "execute_result"
    }
   ],
   "source": [
    "\"\"\"Data abstraction is a method where essential elements are displayed to the user and trivial elements are kept hidden. abstraction is achieved by using the @abstractmethod keyword for classes and interfaces. In abstract classes, we can have abstract methods as well as concrete methods.\"\"\""
   ]
  },
  {
   "cell_type": "code",
   "execution_count": 39,
   "id": "454fbf8e-41ae-4106-a35b-248d9873dd51",
   "metadata": {},
   "outputs": [],
   "source": [
    "#Q5. Can we create an instance of an abstract class? Explain your answer."
   ]
  },
  {
   "cell_type": "code",
   "execution_count": 37,
   "id": "7c0da645-aed0-4d2b-a9e4-c5532da4c3bd",
   "metadata": {},
   "outputs": [
    {
     "data": {
      "text/plain": [
       "'Abstract classes cannot be instantiated, but they can be subclassed. When an abstract class is subclassed, the subclass usually provides implementations for all of the abstract methods in its parent class. However, if it does not, then the subclass must also be declared abstract.'"
      ]
     },
     "execution_count": 37,
     "metadata": {},
     "output_type": "execute_result"
    }
   ],
   "source": [
    "\"\"\"Abstract classes cannot be instantiated, but they can be subclassed. When an abstract class is subclassed, the subclass usually provides implementations for all of the abstract methods in its parent class. However, if it does not, then the subclass must also be declared abstract.\"\"\""
   ]
  },
  {
   "cell_type": "code",
   "execution_count": null,
   "id": "227fe8bf-b83c-44c0-8afb-bf8c6f363cf9",
   "metadata": {},
   "outputs": [],
   "source": []
  }
 ],
 "metadata": {
  "kernelspec": {
   "display_name": "Python 3 (ipykernel)",
   "language": "python",
   "name": "python3"
  },
  "language_info": {
   "codemirror_mode": {
    "name": "ipython",
    "version": 3
   },
   "file_extension": ".py",
   "mimetype": "text/x-python",
   "name": "python",
   "nbconvert_exporter": "python",
   "pygments_lexer": "ipython3",
   "version": "3.10.8"
  }
 },
 "nbformat": 4,
 "nbformat_minor": 5
}
